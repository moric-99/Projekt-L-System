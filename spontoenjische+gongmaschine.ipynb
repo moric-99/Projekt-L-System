{
 "cells": [
  {
   "cell_type": "code",
   "execution_count": 1,
   "metadata": {},
   "outputs": [
    {
     "name": "stdout",
     "output_type": "stream",
     "text": [
      "f\n"
     ]
    }
   ],
   "source": [
    "from random import*\n",
    "print (choice(\"cdefgah\")) #per zufall anfagngston bestimmen"
   ]
  },
  {
   "cell_type": "code",
   "execution_count": 2,
   "metadata": {},
   "outputs": [
    {
     "name": "stdout",
     "output_type": "stream",
     "text": [
      "6\n"
     ]
    }
   ],
   "source": [
    "from random import *\n",
    "A = choice('1234567') \n",
    "print (A)"
   ]
  },
  {
   "cell_type": "code",
   "execution_count": 3,
   "metadata": {},
   "outputs": [
    {
     "name": "stdout",
     "output_type": "stream",
     "text": [
      "nicht c\n"
     ]
    }
   ],
   "source": [
    "from numpy.random import choice\n",
    "if A == \"1\" :\n",
    "    toene_fuer_c = ['2', '3', '4', '5', '6', '7'] \n",
    "    weights = [0.1, 0.3, 0.1 , 0.3, 0.1 , 0.1]\n",
    "    TC = choice(toene_fuer_c,p=weights) \n",
    "    if TC == \"3\" :\n",
    "        toene_fuer_e = ['1', '2', '4', '5', '6', '7']\n",
    "        weights = [0.3, 0.3, 0.1, 0.1, 0.1, 0.1]\n",
    "    else :\n",
    "        print (\"schadeschokolade\")\n",
    "else:\n",
    "    print ('nicht c')"
   ]
  },
  {
   "cell_type": "code",
   "execution_count": 1,
   "metadata": {},
   "outputs": [],
   "source": [
    "def createLsystem (numIters, axiom):\n",
    "    startString = choice ('1','2','3','4','5','6','7')\n",
    "    endString = \"\"\n",
    "    for i in range(numIters):\n",
    "        endString = processString(startString)\n",
    "        startString = endString\n",
    "        \n",
    "        return endString\n",
    "    \n",
    "def processString(oldStr):\n",
    "    newstr = \"\"\n",
    "    for T in oldStr:\n",
    "        newstr = newstr + applyRules(T)\n",
    "\n",
    "    return newstr\n",
    "\n",
    "\n",
    "def applyRules(T) :\n",
    "    newstr == \"\"\n",
    "    if T == '1' :\n",
    "        T1 = ['2', '3', '4', '5', '6', '7']\n",
    "        weights = [0.1, 0.3, 0.1, 0.3, 0.1, 0.1]\n",
    "        newstr = choice(T1, p=weights)\n",
    "    elif T == '2' :\n",
    "        T2 = ['1', '3', '4', '5', '6', '7']\n",
    "        weights = [0.1, 0.1, 0.3, 0.1, 0.3, 0.1]\n",
    "        newstr = choice(T2, p=weights)\n",
    "    elif T == '3' :\n",
    "        T3 = ['1', '2', '4', '5', '6', '7']\n",
    "        weights = [0.1, 0.1, 0.1, 0.3, 0.1, 0.3]\n",
    "        newstr = choice(T3, p=weights)\n",
    "    return newstr\n",
    "\n"
   ]
  },
  {
   "cell_type": "code",
   "execution_count": 5,
   "metadata": {
    "scrolled": false
   },
   "outputs": [
    {
     "ename": "UnboundLocalError",
     "evalue": "local variable 'newstr' referenced before assignment",
     "output_type": "error",
     "traceback": [
      "\u001b[0;31m---------------------------------------------------------------------------\u001b[0m",
      "\u001b[0;31mUnboundLocalError\u001b[0m                         Traceback (most recent call last)",
      "\u001b[0;32m<ipython-input-5-a62b391ede56>\u001b[0m in \u001b[0;36m<module>\u001b[0;34m()\u001b[0m\n\u001b[1;32m     38\u001b[0m     \u001b[0mprint\u001b[0m\u001b[0;34m(\u001b[0m\u001b[0minst\u001b[0m\u001b[0;34m)\u001b[0m\u001b[0;34m\u001b[0m\u001b[0m\n\u001b[1;32m     39\u001b[0m \u001b[0;34m\u001b[0m\u001b[0m\n\u001b[0;32m---> 40\u001b[0;31m \u001b[0mmain\u001b[0m\u001b[0;34m(\u001b[0m\u001b[0;34m)\u001b[0m\u001b[0;34m\u001b[0m\u001b[0m\n\u001b[0m\u001b[1;32m     41\u001b[0m \u001b[0;34m\u001b[0m\u001b[0m\n",
      "\u001b[0;32m<ipython-input-5-a62b391ede56>\u001b[0m in \u001b[0;36mmain\u001b[0;34m()\u001b[0m\n\u001b[1;32m     35\u001b[0m \u001b[0;34m\u001b[0m\u001b[0m\n\u001b[1;32m     36\u001b[0m \u001b[0;32mdef\u001b[0m \u001b[0mmain\u001b[0m\u001b[0;34m(\u001b[0m\u001b[0;34m)\u001b[0m\u001b[0;34m:\u001b[0m\u001b[0;34m\u001b[0m\u001b[0m\n\u001b[0;32m---> 37\u001b[0;31m     \u001b[0minst\u001b[0m \u001b[0;34m=\u001b[0m \u001b[0mcreateLsystem\u001b[0m\u001b[0;34m(\u001b[0m\u001b[0;36m4\u001b[0m\u001b[0;34m,\u001b[0m \u001b[0;34m\"1\"\u001b[0m\u001b[0;34m)\u001b[0m   \u001b[0;31m# create the string\u001b[0m\u001b[0;34m\u001b[0m\u001b[0m\n\u001b[0m\u001b[1;32m     38\u001b[0m     \u001b[0mprint\u001b[0m\u001b[0;34m(\u001b[0m\u001b[0minst\u001b[0m\u001b[0;34m)\u001b[0m\u001b[0;34m\u001b[0m\u001b[0m\n\u001b[1;32m     39\u001b[0m \u001b[0;34m\u001b[0m\u001b[0m\n",
      "\u001b[0;32m<ipython-input-5-a62b391ede56>\u001b[0m in \u001b[0;36mcreateLsystem\u001b[0;34m(numIters, axiom)\u001b[0m\n\u001b[1;32m      3\u001b[0m     \u001b[0mendString\u001b[0m \u001b[0;34m=\u001b[0m \u001b[0;34m\"\"\u001b[0m\u001b[0;34m\u001b[0m\u001b[0m\n\u001b[1;32m      4\u001b[0m     \u001b[0;32mfor\u001b[0m \u001b[0mi\u001b[0m \u001b[0;32min\u001b[0m \u001b[0mrange\u001b[0m\u001b[0;34m(\u001b[0m\u001b[0mnumIters\u001b[0m\u001b[0;34m)\u001b[0m\u001b[0;34m:\u001b[0m\u001b[0;34m\u001b[0m\u001b[0m\n\u001b[0;32m----> 5\u001b[0;31m         \u001b[0mendString\u001b[0m \u001b[0;34m=\u001b[0m \u001b[0mprocessString\u001b[0m\u001b[0;34m(\u001b[0m\u001b[0mstartString\u001b[0m\u001b[0;34m)\u001b[0m\u001b[0;34m\u001b[0m\u001b[0m\n\u001b[0m\u001b[1;32m      6\u001b[0m         \u001b[0mstartString\u001b[0m \u001b[0;34m=\u001b[0m \u001b[0mendString\u001b[0m\u001b[0;34m\u001b[0m\u001b[0m\n\u001b[1;32m      7\u001b[0m \u001b[0;34m\u001b[0m\u001b[0m\n",
      "\u001b[0;32m<ipython-input-5-a62b391ede56>\u001b[0m in \u001b[0;36mprocessString\u001b[0;34m(oldStr)\u001b[0m\n\u001b[1;32m     11\u001b[0m     \u001b[0mnewstr\u001b[0m \u001b[0;34m=\u001b[0m \u001b[0;34m\"\"\u001b[0m\u001b[0;34m\u001b[0m\u001b[0m\n\u001b[1;32m     12\u001b[0m     \u001b[0;32mfor\u001b[0m \u001b[0mT\u001b[0m \u001b[0;32min\u001b[0m \u001b[0moldStr\u001b[0m\u001b[0;34m:\u001b[0m\u001b[0;34m\u001b[0m\u001b[0m\n\u001b[0;32m---> 13\u001b[0;31m         \u001b[0mnewstr\u001b[0m \u001b[0;34m=\u001b[0m \u001b[0mnewstr\u001b[0m \u001b[0;34m+\u001b[0m \u001b[0mapplyRules\u001b[0m\u001b[0;34m(\u001b[0m\u001b[0mT\u001b[0m\u001b[0;34m)\u001b[0m\u001b[0;34m\u001b[0m\u001b[0m\n\u001b[0m\u001b[1;32m     14\u001b[0m \u001b[0;34m\u001b[0m\u001b[0m\n\u001b[1;32m     15\u001b[0m     \u001b[0;32mreturn\u001b[0m \u001b[0mnewstr\u001b[0m\u001b[0;34m\u001b[0m\u001b[0m\n",
      "\u001b[0;32m<ipython-input-5-a62b391ede56>\u001b[0m in \u001b[0;36mapplyRules\u001b[0;34m(T)\u001b[0m\n\u001b[1;32m     17\u001b[0m \u001b[0;34m\u001b[0m\u001b[0m\n\u001b[1;32m     18\u001b[0m \u001b[0;32mdef\u001b[0m \u001b[0mapplyRules\u001b[0m\u001b[0;34m(\u001b[0m\u001b[0mT\u001b[0m\u001b[0;34m)\u001b[0m \u001b[0;34m:\u001b[0m\u001b[0;34m\u001b[0m\u001b[0m\n\u001b[0;32m---> 19\u001b[0;31m     \u001b[0mnewstr\u001b[0m \u001b[0;34m==\u001b[0m \u001b[0;34m\"\"\u001b[0m\u001b[0;34m\u001b[0m\u001b[0m\n\u001b[0m\u001b[1;32m     20\u001b[0m     \u001b[0;32mif\u001b[0m \u001b[0mT\u001b[0m \u001b[0;34m==\u001b[0m \u001b[0;34m'1'\u001b[0m \u001b[0;34m:\u001b[0m\u001b[0;34m\u001b[0m\u001b[0m\n\u001b[1;32m     21\u001b[0m         \u001b[0mT1\u001b[0m \u001b[0;34m=\u001b[0m \u001b[0;34m[\u001b[0m\u001b[0;34m'2'\u001b[0m\u001b[0;34m,\u001b[0m \u001b[0;34m'3'\u001b[0m\u001b[0;34m,\u001b[0m \u001b[0;34m'4'\u001b[0m\u001b[0;34m,\u001b[0m \u001b[0;34m'5'\u001b[0m\u001b[0;34m,\u001b[0m \u001b[0;34m'6'\u001b[0m\u001b[0;34m,\u001b[0m \u001b[0;34m'7'\u001b[0m\u001b[0;34m]\u001b[0m\u001b[0;34m\u001b[0m\u001b[0m\n",
      "\u001b[0;31mUnboundLocalError\u001b[0m: local variable 'newstr' referenced before assignment"
     ]
    }
   ],
   "source": [
    "def createLsystem (numIters, axiom):\n",
    "    startString = axiom\n",
    "    endString = \"\"\n",
    "    for i in range(numIters):\n",
    "        endString = processString(startString)\n",
    "        startString = endString\n",
    "        \n",
    "        return endString\n",
    "    \n",
    "def processString(oldStr):\n",
    "    newstr = \"\"\n",
    "    for T in oldStr:\n",
    "        newstr = newstr + applyRules(T)\n",
    "\n",
    "    return newstr\n",
    "\n",
    "\n",
    "def applyRules(T) :\n",
    "    newstr == \"\"\n",
    "    if T == '1' :\n",
    "        T1 = ['2', '3', '4', '5', '6', '7']\n",
    "        weights = [0.1, 0.3, 0.1, 0.3, 0.1, 0.1]\n",
    "        newstr = choice(T1, p=weights)\n",
    "    elif T == '2' :\n",
    "        T2 = ['1', '3', '4', '5', '6', '7']\n",
    "        weights = [0.1, 0.1, 0.3, 0.1, 0.3, 0.1]\n",
    "        newstr = choice(T2, p=weights)\n",
    "    elif T == '3' :\n",
    "        T3 = ['1', '2', '4', '5', '6', '7']\n",
    "        weights = [0.1, 0.1, 0.1, 0.3, 0.1, 0.3]\n",
    "        newstr = choice(T3, p=weights)\n",
    "        \n",
    "    return newstr\n",
    "\n",
    "\n",
    "def main():\n",
    "    inst = createLsystem(4, \"1\")   # create the string\n",
    "    print(inst)\n",
    "    \n",
    "main()\n",
    "\n"
   ]
  },
  {
   "cell_type": "code",
   "execution_count": 6,
   "metadata": {},
   "outputs": [
    {
     "name": "stdout",
     "output_type": "stream",
     "text": [
      "F-F++F-F-F-F++F-F++F-F++F-F-F-F++F-F-F-F++F-F-F-F++F-F++F-F++F-F-F-F++F-F++F-F++F-F-F-F++F-F++F-F++F-F-F-F++F-F-F-F++F-F-F-F++F-F++F-F++F-F-F-F++F-F-F-F++F-F-F-F++F-F++F-F++F-F-F-F++F-F-F-F++F-F-F-F++F-F++F-F++F-F-F-F++F-F++F-F++F-F-F-F++F-F++F-F++F-F-F-F++F-F-F-F++F-F-F-F++F-F++F-F++F-F-F-F++F-F++F-F++F-F-F-F++F-F++F-F++F-F-F-F++F-F-F-F++F-F-F-F++F-F++F-F++F-F-F-F++F-F++F-F++F-F-F-F++F-F++F-F++F-F-F-F++F-F-F-F++F-F-F-F++F-F++F-F++F-F-F-F++F-F-F-F++F-F-F-F++F-F++F-F++F-F-F-F++F-F-F-F++F-F-F-F++F-F++F-F++F-F-F-F++F-F++F-F++F-F-F-F++F-F++F-F++F-F-F-F++F-F-F-F++F-F-F-F++F-F++F-F++F-F-F-F++F-F\n"
     ]
    }
   ],
   "source": [
    "#klassisches L-System nach Lindemeyer\n",
    "\n",
    "def createLSystem(numIters,axiom):  \n",
    "    startString = axiom\n",
    "    endString = \"\"\n",
    "    for i in range(numIters):\n",
    "        endString = processString(startString)\n",
    "        startString = endString\n",
    "\n",
    "    return endString\n",
    "\n",
    "def processString(oldStr):\n",
    "    newstr = \"\"\n",
    "    for ch in oldStr:\n",
    "        newstr = newstr + applyRules(ch)\n",
    "\n",
    "    return newstr\n",
    "\n",
    "def applyRules(ch):\n",
    "    newstr = \"\"\n",
    "    if ch == 'F':\n",
    "        newstr = 'F-F++F-F'   # Rule 1\n",
    "    else:\n",
    "        newstr = ch    # no rules apply so keep the character\n",
    "\n",
    "    return newstr\n",
    "\n",
    "def main():\n",
    "    inst = createLSystem(4, \"F\")   # create the string\n",
    "    print(inst)\n",
    "    \n",
    "    \n",
    "main ()\n"
   ]
  },
  {
   "cell_type": "code",
   "execution_count": 15,
   "metadata": {},
   "outputs": [
    {
     "name": "stdout",
     "output_type": "stream",
     "text": [
      "hi\n"
     ]
    }
   ],
   "source": [
    "print(\"hi\")"
   ]
  },
  {
   "cell_type": "code",
   "execution_count": null,
   "metadata": {
    "collapsed": true
   },
   "outputs": [],
   "source": []
  }
 ],
 "metadata": {
  "kernelspec": {
   "display_name": "Python 3",
   "language": "python",
   "name": "python3"
  },
  "language_info": {
   "codemirror_mode": {
    "name": "ipython",
    "version": 3
   },
   "file_extension": ".py",
   "mimetype": "text/x-python",
   "name": "python",
   "nbconvert_exporter": "python",
   "pygments_lexer": "ipython3",
   "version": "3.6.2"
  }
 },
 "nbformat": 4,
 "nbformat_minor": 2
}
