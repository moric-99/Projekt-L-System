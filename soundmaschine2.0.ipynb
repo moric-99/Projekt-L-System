{
 "cells": [
  {
   "cell_type": "code",
   "execution_count": 48,
   "metadata": {},
   "outputs": [
    {
     "name": "stdout",
     "output_type": "stream",
     "text": [
      "2\n",
      "['4', '5', '7', '1', '2', '5', '4', '5', '4', '3', '4', '6', '1', '2', '5', '6', '5', '4', '2', '3', '2', '3', '2', '3']\n"
     ]
    }
   ],
   "source": [
    "###soundmaschine\n",
    "\n",
    "import random\n",
    "from random import choice\n",
    "\n",
    "Tonfolge = []\n",
    "\n",
    "def createLsystem(runs, startton):                #Lsystem durchlaufanzahl und startaxiom\n",
    "    startString = startton                        \n",
    "    endString = \"\"\n",
    "    for R in range(runs):                         #durchlaeufe definieren\n",
    "        endString = processString(startString)\n",
    "        startString = endString\n",
    "    \n",
    "    return endString\n",
    "\n",
    "def processString(oldString):                      #prozessstring defenieren, \n",
    "    newstr = \"\"\n",
    "    for T in oldString:                            #neuer string ist der vorheriger string mit angewandten regeln \n",
    "        newstr = newstr + applyRules(T)\n",
    "    Tonfolge.append(oldString)                               #ausgeben des alten Strings bzw des Tons bevor er wieder ersetzt wird\n",
    "    return newstr\n",
    "\n",
    "def applyRules(T):                                 # bestimmen der Regeln, zufaellige Zahl wird gewuerfelt, um die Wahrscheinlichkeiten fuer die darauffolgenden Toene festzulegen\n",
    "    newstr = \"\"\n",
    "    if T == '1':\n",
    "        X = random.randint(1, 100)/100              #hoehere wahrscheinlichkeit fuer die anliegenden Toene\n",
    "        if X < 0.3:\n",
    "            newstr = '7'\n",
    "        elif X < 0.6:\n",
    "            newstr = '2'\n",
    "        elif X < 0.7:\n",
    "            newstr = '3'\n",
    "        elif X < 0.8:\n",
    "            newstr = '4'\n",
    "        elif X < 0.9:\n",
    "            newstr = '5'\n",
    "        elif X < 1.0:\n",
    "            newstr = '6'\n",
    "            \n",
    "    elif T == '2':\n",
    "        X = random.randint(1, 100)/100\n",
    "        if X < 0.3:\n",
    "            newstr = '1'\n",
    "        elif X < 0.6:\n",
    "            newstr = '3'\n",
    "        elif X < 0.7:\n",
    "            newstr = '4'\n",
    "        elif X < 0.8:\n",
    "            newstr = '5'\n",
    "        elif X < 0.9:\n",
    "            newstr = '6'\n",
    "        elif X < 1.0:\n",
    "            newstr = '7'\n",
    "    \n",
    "    elif T == '3':\n",
    "        X = random.randint(1, 100)/100\n",
    "        if X < 0.3:\n",
    "            newstr = '2'\n",
    "        elif X < 0.6:\n",
    "            newstr = '4'\n",
    "        elif X < 0.7:\n",
    "            newstr = '5'\n",
    "        elif X < 0.8:\n",
    "            newstr = '6'\n",
    "        elif X < 0.9:\n",
    "            newstr = '7'\n",
    "        elif X < 1.0:\n",
    "            newstr = '1'\n",
    "            \n",
    "    elif T == '4':\n",
    "        X = random.randint(1, 100)/100\n",
    "        if X < 0.3:\n",
    "            newstr = '3'\n",
    "        elif X < 0.6:\n",
    "            newstr = '5'\n",
    "        elif X < 0.7:\n",
    "            newstr = '6'\n",
    "        elif X < 0.8:\n",
    "            newstr = '7'\n",
    "        elif X < 0.9:\n",
    "            newstr = '1'\n",
    "        elif X < 1.0:\n",
    "            newstr = '2'\n",
    "            \n",
    "    elif T == '5':\n",
    "        X = random.randint(1, 100)/100\n",
    "        if X < 0.3:\n",
    "            newstr = '4'\n",
    "        elif X < 0.6:\n",
    "            newstr = '6'\n",
    "        elif X < 0.7:\n",
    "            newstr = '7'\n",
    "        elif X < 0.8:\n",
    "            newstr = '1'\n",
    "        elif X < 0.9:\n",
    "            newstr = '2'\n",
    "        elif X < 1.0:\n",
    "            newstr = '3'\n",
    "            \n",
    "    elif T == '6':\n",
    "        X = random.randint(1, 100)/100\n",
    "        if X < 0.3:\n",
    "            newstr = '5'\n",
    "        elif X < 0.6:\n",
    "            newstr = '7'\n",
    "        elif X < 0.7:\n",
    "            newstr = '1'\n",
    "        elif X < 0.8:\n",
    "            newstr = '2'\n",
    "        elif X < 0.9:\n",
    "            newstr = '3'\n",
    "        elif X < 1.0:\n",
    "            newstr = '4'\n",
    "            \n",
    "    elif T == '7':\n",
    "        X = random.randint(1, 100)/100\n",
    "        if X < 0.3:\n",
    "            newstr = '6'\n",
    "        elif X < 0.6:\n",
    "            newstr = '1'\n",
    "        elif X < 0.7:\n",
    "            newstr = '2'\n",
    "        elif X < 0.8:\n",
    "            newstr = '3'\n",
    "        elif X < 0.9:\n",
    "            newstr = '4'\n",
    "        elif X < 1.0:\n",
    "            newstr = '5'\n",
    "            \n",
    "    \n",
    "    else:\n",
    "        newstr = T                             #absicherung\n",
    "        \n",
    "    return newstr                              #wiederholen des Vorgangs, der schleife\n",
    "\n",
    "def Lied():                                    # Funktion Lied definieren, damit L System druchgefuehrt werden kann\n",
    "    Melodie = createLsystem(24, choice (\"1234567\") )     #per zufall startaxiom auswaehlen, zahl der durchlauefe bestimmen \n",
    "    print(Melodie)                                       \n",
    "\n",
    "Lied ()    \n",
    "\n",
    "print(Tonfolge)\n"
   ]
  },
  {
   "cell_type": "code",
   "execution_count": 63,
   "metadata": {},
   "outputs": [
    {
     "data": {
      "text/plain": [
       "[1, 2, 3]"
      ]
     },
     "execution_count": 63,
     "metadata": {},
     "output_type": "execute_result"
    }
   ],
   "source": [
    "import numpy as np\n",
    ">>> np.array(['1','2','3']).tolist()\n",
    "[1,2,3]"
   ]
  },
  {
   "cell_type": "code",
   "execution_count": 57,
   "metadata": {},
   "outputs": [
    {
     "data": {
      "text/html": [
       "\n",
       "                <div id='midiPlayerDiv99'></div>\n",
       "                <link rel=\"stylesheet\" href=\"//cuthbertLab.github.io/music21j/css/m21.css\"\n",
       "                    type=\"text/css\" />\n",
       "                <script>\n",
       "                require.config({\n",
       "                    paths: {'music21': '//cuthbertLab.github.io/music21j/src/music21'}\n",
       "                });\n",
       "                require(['music21'], function() {\n",
       "                               mp = new music21.miditools.MidiPlayer();\n",
       "                               mp.addPlayer('#midiPlayerDiv99');\n",
       "                               mp.base64Load('data:audio/midi;base64,TVRoZAAAAAYAAQABBABNVHJrAAAAOgD/AwVQaWFubwDAAADgAEAAwAAA/1EDCiwrAJA9ZIgAgD0AAJA+ZIgAgD4AAJA/ZIgAgD8AiAD/LwA=');\n",
       "                        });\n",
       "                </script>"
      ],
      "text/plain": [
       "<IPython.core.display.HTML object>"
      ]
     },
     "metadata": {},
     "output_type": "display_data"
    }
   ],
   "source": [
    "playMidi (\"tune1.midi\") "
   ]
  },
  {
   "cell_type": "code",
   "execution_count": null,
   "metadata": {
    "collapsed": true
   },
   "outputs": [],
   "source": []
  }
 ],
 "metadata": {
  "kernelspec": {
   "display_name": "Python 3",
   "language": "python",
   "name": "python3"
  },
  "language_info": {
   "codemirror_mode": {
    "name": "ipython",
    "version": 3
   },
   "file_extension": ".py",
   "mimetype": "text/x-python",
   "name": "python",
   "nbconvert_exporter": "python",
   "pygments_lexer": "ipython3",
   "version": "3.6.2"
  }
 },
 "nbformat": 4,
 "nbformat_minor": 2
}
